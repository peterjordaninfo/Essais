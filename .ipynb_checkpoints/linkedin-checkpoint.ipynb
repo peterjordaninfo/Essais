{
 "cells": [
  {
   "cell_type": "code",
   "execution_count": 1,
   "metadata": {},
   "outputs": [],
   "source": [
    "import pandas as pd\n",
    "import janitor\n",
    "import datetime\n",
    "\n",
    "from IPython.core.display import display, HTML\n",
    "from pyvis import network as net\n",
    "import networkx as nx"
   ]
  },
  {
   "cell_type": "code",
   "execution_count": 2,
   "metadata": {},
   "outputs": [
    {
     "name": "stdout",
     "output_type": "stream",
     "text": [
      "<class 'pandas.core.frame.DataFrame'>\n",
      "RangeIndex: 566 entries, 0 to 565\n",
      "Data columns (total 6 columns):\n",
      " #   Column         Non-Null Count  Dtype \n",
      "---  ------         --------------  ----- \n",
      " 0   First Name     562 non-null    object\n",
      " 1   Last Name      562 non-null    object\n",
      " 2   Email Address  3 non-null      object\n",
      " 3   Company        559 non-null    object\n",
      " 4   Position       559 non-null    object\n",
      " 5   Connected On   566 non-null    object\n",
      "dtypes: object(6)\n",
      "memory usage: 26.7+ KB\n"
     ]
    }
   ],
   "source": [
    "# The original csv file has notes on the first two rows,\n",
    "# so we’re reading starting from line 3, which is what skiprows=2 does\n",
    "df_ori = pd.read_csv(\"Connections.csv\", skiprows=2)\n",
    "\n",
    "df_ori.info()"
   ]
  },
  {
   "cell_type": "markdown",
   "metadata": {},
   "source": [
    "## Data Cleaning\n"
   ]
  },
  {
   "cell_type": "code",
   "execution_count": 3,
   "metadata": {},
   "outputs": [
    {
     "data": {
      "text/html": [
       "<div>\n",
       "<style scoped>\n",
       "    .dataframe tbody tr th:only-of-type {\n",
       "        vertical-align: middle;\n",
       "    }\n",
       "\n",
       "    .dataframe tbody tr th {\n",
       "        vertical-align: top;\n",
       "    }\n",
       "\n",
       "    .dataframe thead th {\n",
       "        text-align: right;\n",
       "    }\n",
       "</style>\n",
       "<table border=\"1\" class=\"dataframe\">\n",
       "  <thead>\n",
       "    <tr style=\"text-align: right;\">\n",
       "      <th></th>\n",
       "      <th>company</th>\n",
       "      <th>position</th>\n",
       "      <th>connected_on</th>\n",
       "    </tr>\n",
       "  </thead>\n",
       "  <tbody>\n",
       "    <tr>\n",
       "      <th>0</th>\n",
       "      <td>UK Home Office</td>\n",
       "      <td>Principal User Researcher</td>\n",
       "      <td>2021-08-28</td>\n",
       "    </tr>\n",
       "    <tr>\n",
       "      <th>1</th>\n",
       "      <td>Government Digital Service</td>\n",
       "      <td>Senior Developer</td>\n",
       "      <td>2021-05-21</td>\n",
       "    </tr>\n",
       "    <tr>\n",
       "      <th>2</th>\n",
       "      <td>Talent</td>\n",
       "      <td>Public Sector Senior Account Manager</td>\n",
       "      <td>2021-05-14</td>\n",
       "    </tr>\n",
       "    <tr>\n",
       "      <th>3</th>\n",
       "      <td>Cabinet Office</td>\n",
       "      <td>User Research Lead (Consultant)</td>\n",
       "      <td>2021-03-22</td>\n",
       "    </tr>\n",
       "    <tr>\n",
       "      <th>4</th>\n",
       "      <td>Opencast Software</td>\n",
       "      <td>Content Designer</td>\n",
       "      <td>2021-02-26</td>\n",
       "    </tr>\n",
       "  </tbody>\n",
       "</table>\n",
       "</div>"
      ],
      "text/plain": [
       "                      company                               position  \\\n",
       "0              UK Home Office             Principal User Researcher    \n",
       "1  Government Digital Service                       Senior Developer   \n",
       "2                      Talent  Public Sector Senior Account Manager    \n",
       "3              Cabinet Office        User Research Lead (Consultant)   \n",
       "4           Opencast Software                       Content Designer   \n",
       "\n",
       "  connected_on  \n",
       "0   2021-08-28  \n",
       "1   2021-05-21  \n",
       "2   2021-05-14  \n",
       "3   2021-03-22  \n",
       "4   2021-02-26  "
      ]
     },
     "execution_count": 3,
     "metadata": {},
     "output_type": "execute_result"
    }
   ],
   "source": [
    "# syntax below is chaining operations one after the other.\n",
    "\n",
    "df = (\n",
    "    df_ori\n",
    "    .clean_names() # remove spacing and capitalization\n",
    "    .drop(columns=['first_name', 'last_name', 'email_address']) # drop for privacy\n",
    "    .dropna(subset=['company', 'position']) # drop missing values in company and position\n",
    "    .to_datetime('connected_on', format='%d %b %Y')\n",
    "  )\n",
    "df.head()"
   ]
  },
  {
   "cell_type": "markdown",
   "metadata": {},
   "source": [
    "## Simple EDA"
   ]
  },
  {
   "cell_type": "markdown",
   "metadata": {},
   "source": [
    "### Top 10 organisations"
   ]
  },
  {
   "cell_type": "code",
   "execution_count": 4,
   "metadata": {},
   "outputs": [
    {
     "data": {
      "image/png": "[encoded data removed]",
      "text/plain": [
       "<Figure size 432x288 with 1 Axes>"
      ]
     },
     "metadata": {
      "needs_background": "light"
     },
     "output_type": "display_data"
    }
   ],
   "source": [
    "# Using pandas built-in plotting capabilities for simplicity\n",
    "# What I’m doing here is getting the value count of the company column,\n",
    "# which acts like a counter for every company, take only the top 10, and then plotting a bar chart.\n",
    "# I also inverted the y-axis so that the names are easier to read.\n",
    "\n",
    "df['company'].value_counts().head(10).plot(kind=\"barh\").invert_yaxis();"
   ]
  },
  {
   "cell_type": "markdown",
   "metadata": {},
   "source": [
    "### Top 10 job titles (positions)"
   ]
  },
  {
   "cell_type": "code",
   "execution_count": 5,
   "metadata": {},
   "outputs": [
    {
     "data": {
      "image/png": "[encoded data removed]",
      "text/plain": [
       "<Figure size 432x288 with 1 Axes>"
      ]
     },
     "metadata": {
      "needs_background": "light"
     },
     "output_type": "display_data"
    }
   ],
   "source": [
    "df['position'].value_counts().head(10).plot(kind=\"barh\").invert_yaxis();"
   ]
  },
  {
   "cell_type": "markdown",
   "metadata": {},
   "source": [
    "### Histogram of when connected"
   ]
  },
  {
   "cell_type": "code",
   "execution_count": 6,
   "metadata": {},
   "outputs": [
    {
     "data": {
      "image/png": "[encoded data removed]",
      "text/plain": [
       "<Figure size 432x288 with 1 Axes>"
      ]
     },
     "metadata": {
      "needs_background": "light"
     },
     "output_type": "display_data"
    }
   ],
   "source": [
    "df['connected_on'].hist(xrot=35, bins=50);"
   ]
  },
  {
   "cell_type": "markdown",
   "metadata": {},
   "source": [
    "## Aggregate position and connection columns"
   ]
  },
  {
   "cell_type": "code",
   "execution_count": 7,
   "metadata": {},
   "outputs": [
    {
     "data": {
      "text/html": [
       "<div>\n",
       "<style scoped>\n",
       "    .dataframe tbody tr th:only-of-type {\n",
       "        vertical-align: middle;\n",
       "    }\n",
       "\n",
       "    .dataframe tbody tr th {\n",
       "        vertical-align: top;\n",
       "    }\n",
       "\n",
       "    .dataframe thead th {\n",
       "        text-align: right;\n",
       "    }\n",
       "</style>\n",
       "<table border=\"1\" class=\"dataframe\">\n",
       "  <thead>\n",
       "    <tr style=\"text-align: right;\">\n",
       "      <th></th>\n",
       "      <th>company</th>\n",
       "      <th>count</th>\n",
       "    </tr>\n",
       "  </thead>\n",
       "  <tbody>\n",
       "    <tr>\n",
       "      <th>0</th>\n",
       "      <td>Government Digital Service</td>\n",
       "      <td>50</td>\n",
       "    </tr>\n",
       "    <tr>\n",
       "      <th>1</th>\n",
       "      <td>Cabinet Office</td>\n",
       "      <td>24</td>\n",
       "    </tr>\n",
       "    <tr>\n",
       "      <th>2</th>\n",
       "      <td>Ministry of Justice UK</td>\n",
       "      <td>11</td>\n",
       "    </tr>\n",
       "    <tr>\n",
       "      <th>3</th>\n",
       "      <td>HM Revenue &amp; Customs</td>\n",
       "      <td>8</td>\n",
       "    </tr>\n",
       "    <tr>\n",
       "      <th>4</th>\n",
       "      <td>Department for Work and Pensions (DWP)</td>\n",
       "      <td>7</td>\n",
       "    </tr>\n",
       "    <tr>\n",
       "      <th>5</th>\n",
       "      <td>Public Digital</td>\n",
       "      <td>6</td>\n",
       "    </tr>\n",
       "    <tr>\n",
       "      <th>6</th>\n",
       "      <td>Department for Digital, Culture, Media and Spo...</td>\n",
       "      <td>6</td>\n",
       "    </tr>\n",
       "    <tr>\n",
       "      <th>8</th>\n",
       "      <td>Department for International Trade (DIT)</td>\n",
       "      <td>5</td>\n",
       "    </tr>\n",
       "    <tr>\n",
       "      <th>9</th>\n",
       "      <td>dxw</td>\n",
       "      <td>5</td>\n",
       "    </tr>\n",
       "    <tr>\n",
       "      <th>7</th>\n",
       "      <td>Department for Education</td>\n",
       "      <td>5</td>\n",
       "    </tr>\n",
       "  </tbody>\n",
       "</table>\n",
       "</div>"
      ],
      "text/plain": [
       "                                             company  count\n",
       "0                         Government Digital Service     50\n",
       "1                                     Cabinet Office     24\n",
       "2                             Ministry of Justice UK     11\n",
       "3                               HM Revenue & Customs      8\n",
       "4             Department for Work and Pensions (DWP)      7\n",
       "5                                     Public Digital      6\n",
       "6  Department for Digital, Culture, Media and Spo...      6\n",
       "8           Department for International Trade (DIT)      5\n",
       "9                                                dxw      5\n",
       "7                           Department for Education      5"
      ]
     },
     "execution_count": 7,
     "metadata": {},
     "output_type": "execute_result"
    }
   ],
   "source": [
    "# Using value_counts()again, along with sort_values(), we’re able to get a new dataframe of the companies\n",
    "# along with the counts.\n",
    "\n",
    "df_company = df['company'].value_counts().reset_index()\n",
    "df_company.columns = ['company', 'count']\n",
    "df_company = df_company.sort_values(by=\"count\", ascending=False)\n",
    "df_company.head(10)"
   ]
  },
  {
   "cell_type": "code",
   "execution_count": 8,
   "metadata": {},
   "outputs": [
    {
     "data": {
      "text/html": [
       "<div>\n",
       "<style scoped>\n",
       "    .dataframe tbody tr th:only-of-type {\n",
       "        vertical-align: middle;\n",
       "    }\n",
       "\n",
       "    .dataframe tbody tr th {\n",
       "        vertical-align: top;\n",
       "    }\n",
       "\n",
       "    .dataframe thead th {\n",
       "        text-align: right;\n",
       "    }\n",
       "</style>\n",
       "<table border=\"1\" class=\"dataframe\">\n",
       "  <thead>\n",
       "    <tr style=\"text-align: right;\">\n",
       "      <th></th>\n",
       "      <th>position</th>\n",
       "      <th>count</th>\n",
       "    </tr>\n",
       "  </thead>\n",
       "  <tbody>\n",
       "    <tr>\n",
       "      <th>0</th>\n",
       "      <td>Director</td>\n",
       "      <td>12</td>\n",
       "    </tr>\n",
       "    <tr>\n",
       "      <th>2</th>\n",
       "      <td>Senior Performance Analyst</td>\n",
       "      <td>8</td>\n",
       "    </tr>\n",
       "    <tr>\n",
       "      <th>1</th>\n",
       "      <td>Senior Product Manager</td>\n",
       "      <td>8</td>\n",
       "    </tr>\n",
       "    <tr>\n",
       "      <th>3</th>\n",
       "      <td>Founder</td>\n",
       "      <td>7</td>\n",
       "    </tr>\n",
       "    <tr>\n",
       "      <th>4</th>\n",
       "      <td>Content Designer</td>\n",
       "      <td>7</td>\n",
       "    </tr>\n",
       "    <tr>\n",
       "      <th>5</th>\n",
       "      <td>Partner</td>\n",
       "      <td>4</td>\n",
       "    </tr>\n",
       "    <tr>\n",
       "      <th>6</th>\n",
       "      <td>Lead Product Manager</td>\n",
       "      <td>4</td>\n",
       "    </tr>\n",
       "    <tr>\n",
       "      <th>7</th>\n",
       "      <td>Senior Content Designer</td>\n",
       "      <td>4</td>\n",
       "    </tr>\n",
       "    <tr>\n",
       "      <th>8</th>\n",
       "      <td>Co-Founder</td>\n",
       "      <td>4</td>\n",
       "    </tr>\n",
       "    <tr>\n",
       "      <th>9</th>\n",
       "      <td>Senior Consultant</td>\n",
       "      <td>4</td>\n",
       "    </tr>\n",
       "  </tbody>\n",
       "</table>\n",
       "</div>"
      ],
      "text/plain": [
       "                     position  count\n",
       "0                    Director     12\n",
       "2  Senior Performance Analyst      8\n",
       "1      Senior Product Manager      8\n",
       "3                     Founder      7\n",
       "4            Content Designer      7\n",
       "5                     Partner      4\n",
       "6        Lead Product Manager      4\n",
       "7     Senior Content Designer      4\n",
       "8                  Co-Founder      4\n",
       "9           Senior Consultant      4"
      ]
     },
     "execution_count": 8,
     "metadata": {},
     "output_type": "execute_result"
    }
   ],
   "source": [
    "# And for position too\n",
    "\n",
    "df_position = df['position'].value_counts().reset_index()\n",
    "df_position.columns = ['position', 'count']\n",
    "df_position = df_position.sort_values(by=\"count\", ascending=False)\n",
    "df_position.head(10)"
   ]
  },
  {
   "cell_type": "markdown",
   "metadata": {},
   "source": [
    "## Creating the network"
   ]
  },
  {
   "cell_type": "markdown",
   "metadata": {},
   "source": [
    "### Simple example network"
   ]
  },
  {
   "cell_type": "code",
   "execution_count": 9,
   "metadata": {},
   "outputs": [
    {
     "data": {
      "text/html": [
       "<html>\n",
       "<head>\n",
       "<link rel=\"stylesheet\" href=\"https://cdnjs.cloudflare.com/ajax/libs/vis/4.16.1/vis.css\" type=\"text/css\" />\n",
       "<script type=\"text/javascript\" src=\"https://cdnjs.cloudflare.com/ajax/libs/vis/4.16.1/vis-network.min.js\"> </script>\n",
       "<center>\n",
       "<h1></h1>\n",
       "</center>\n",
       "\n",
       "<!-- <link rel=\"stylesheet\" href=\"../node_modules/vis/dist/vis.min.css\" type=\"text/css\" />\n",
       "<script type=\"text/javascript\" src=\"../node_modules/vis/dist/vis.js\"> </script>-->\n",
       "\n",
       "<style type=\"text/css\">\n",
       "\n",
       "        #mynetwork {\n",
       "            width: 500px;\n",
       "            height: 500px;\n",
       "            background-color: #ffffff;\n",
       "            border: 1px solid lightgray;\n",
       "            position: relative;\n",
       "            float: left;\n",
       "        }\n",
       "\n",
       "        \n",
       "\n",
       "        \n",
       "\n",
       "        \n",
       "</style>\n",
       "\n",
       "</head>\n",
       "\n",
       "<body>\n",
       "<div id = \"mynetwork\"></div>\n",
       "\n",
       "\n",
       "<script type=\"text/javascript\">\n",
       "\n",
       "    // initialize global variables.\n",
       "    var edges;\n",
       "    var nodes;\n",
       "    var network; \n",
       "    var container;\n",
       "    var options, data;\n",
       "\n",
       "    \n",
       "    // This method is responsible for drawing the graph, returns the drawn network\n",
       "    function drawGraph() {\n",
       "        var container = document.getElementById('mynetwork');\n",
       "        \n",
       "        \n",
       "\n",
       "        // parsing and collecting nodes and edges from the python\n",
       "        nodes = new vis.DataSet([{\"id\": 0, \"label\": \"root\", \"shape\": \"dot\", \"size\": 10}, {\"id\": 1, \"label\": \"Company 1\", \"shape\": \"dot\", \"size\": 10, \"title\": \"info1\"}, {\"id\": 2, \"label\": \"Company 2\", \"shape\": \"dot\", \"size\": 40, \"title\": \"info2\"}, {\"id\": 3, \"label\": \"Company 3\", \"shape\": \"dot\", \"size\": 60, \"title\": \"info3\"}]);\n",
       "        edges = new vis.DataSet([{\"from\": 0, \"to\": 1, \"weight\": 1}, {\"from\": 0, \"to\": 2, \"weight\": 1}, {\"from\": 0, \"to\": 3, \"weight\": 1}]);\n",
       "\n",
       "        // adding nodes and edges to the graph\n",
       "        data = {nodes: nodes, edges: edges};\n",
       "\n",
       "        var options = {\n",
       "    \"configure\": {\n",
       "        \"enabled\": false\n",
       "    },\n",
       "    \"edges\": {\n",
       "        \"color\": {\n",
       "            \"inherit\": true\n",
       "        },\n",
       "        \"smooth\": {\n",
       "            \"enabled\": false,\n",
       "            \"type\": \"continuous\"\n",
       "        }\n",
       "    },\n",
       "    \"interaction\": {\n",
       "        \"dragNodes\": true,\n",
       "        \"hideEdgesOnDrag\": false,\n",
       "        \"hideNodesOnDrag\": false\n",
       "    },\n",
       "    \"physics\": {\n",
       "        \"enabled\": true,\n",
       "        \"stabilization\": {\n",
       "            \"enabled\": true,\n",
       "            \"fit\": true,\n",
       "            \"iterations\": 1000,\n",
       "            \"onlyDynamicEdges\": false,\n",
       "            \"updateInterval\": 50\n",
       "        }\n",
       "    }\n",
       "};\n",
       "        \n",
       "        \n",
       "\n",
       "        \n",
       "\n",
       "        network = new vis.Network(container, data, options);\n",
       "\t \n",
       "        \n",
       "\n",
       "\n",
       "        \n",
       "\n",
       "        return network;\n",
       "\n",
       "    }\n",
       "\n",
       "    drawGraph();\n",
       "\n",
       "</script>\n",
       "</body>\n",
       "</html>"
      ],
      "text/plain": [
       "<IPython.core.display.HTML object>"
      ]
     },
     "metadata": {},
     "output_type": "display_data"
    }
   ],
   "source": [
    "nt = net.Network(notebook=True)\n",
    "\n",
    "g = nx.Graph()\n",
    "g.add_node(0, label = \"root\") # intialize yourself as central node\n",
    "g.add_node(1, label = \"Company 1\", size=10, title=\"info1\")\n",
    "g.add_node(2, label = \"Company 2\", size=40, title=\"info2\")\n",
    "g.add_node(3, label = \"Company 3\", size=60, title=\"info3\")\n",
    "g.add_edge(0, 1)\n",
    "g.add_edge(0, 2)\n",
    "g.add_edge(0, 3)\n",
    "\n",
    "nt.from_nx(g)\n",
    "nt.show('nodes.html')\n",
    "display(HTML('nodes.html'))"
   ]
  },
  {
   "cell_type": "code",
   "execution_count": 10,
   "metadata": {},
   "outputs": [
    {
     "name": "stdout",
     "output_type": "stream",
     "text": [
      "number of nodes: 4\n",
      "number of edges: 3\n"
     ]
    }
   ],
   "source": [
    "print(f\"number of nodes: {g.number_of_nodes()}\")\n",
    "print(f\"number of edges: {g.number_of_edges()}\")"
   ]
  },
  {
   "cell_type": "markdown",
   "metadata": {
    "tags": []
   },
   "source": [
    "## My LinkedIn network"
   ]
  },
  {
   "cell_type": "markdown",
   "metadata": {},
   "source": [
    "### Reduce size (number) of nodes"
   ]
  },
  {
   "cell_type": "code",
   "execution_count": 11,
   "metadata": {},
   "outputs": [
    {
     "name": "stdout",
     "output_type": "stream",
     "text": [
      "Government Digital Service-50\n",
      "Cabinet Office-24\n",
      "Ministry of Justice UK-11\n",
      "HM Revenue & Customs-8\n",
      "Department for Work and Pensions (DWP)-7\n"
     ]
    }
   ],
   "source": [
    "for _, row in df_company.head(5).iterrows():\n",
    "  print(row['company'] + \"-\" + str(row['count']))"
   ]
  },
  {
   "cell_type": "code",
   "execution_count": 12,
   "metadata": {},
   "outputs": [
    {
     "name": "stdout",
     "output_type": "stream",
     "text": [
      "(387, 2)\n",
      "(10, 2)\n"
     ]
    }
   ],
   "source": [
    "print(df_company.shape)\n",
    "df_company_reduced = df_company.loc[df_company['count']>=5]\n",
    "print(df_company_reduced.shape)"
   ]
  },
  {
   "cell_type": "code",
   "execution_count": 13,
   "metadata": {},
   "outputs": [
    {
     "name": "stdout",
     "output_type": "stream",
     "text": [
      "(469, 2)\n",
      "(5, 2)\n"
     ]
    }
   ],
   "source": [
    "print(df_position.shape)\n",
    "df_position_reduced = df_position.loc[df_position['count']>=5]\n",
    "print(df_position_reduced.shape)"
   ]
  },
  {
   "cell_type": "code",
   "execution_count": 14,
   "metadata": {},
   "outputs": [
    {
     "data": {
      "text/html": [
       "<html>\n",
       "<head>\n",
       "<link rel=\"stylesheet\" href=\"https://cdnjs.cloudflare.com/ajax/libs/vis/4.16.1/vis.css\" type=\"text/css\" />\n",
       "<script type=\"text/javascript\" src=\"https://cdnjs.cloudflare.com/ajax/libs/vis/4.16.1/vis-network.min.js\"> </script>\n",
       "<center>\n",
       "<h1></h1>\n",
       "</center>\n",
       "\n",
       "<!-- <link rel=\"stylesheet\" href=\"../node_modules/vis/dist/vis.min.css\" type=\"text/css\" />\n",
       "<script type=\"text/javascript\" src=\"../node_modules/vis/dist/vis.js\"> </script>-->\n",
       "\n",
       "<style type=\"text/css\">\n",
       "\n",
       "        #mynetwork {\n",
       "            width: 700px;\n",
       "            height: 700px;\n",
       "            background-color: black;\n",
       "            border: 1px solid lightgray;\n",
       "            position: relative;\n",
       "            float: left;\n",
       "        }\n",
       "\n",
       "        \n",
       "\n",
       "        \n",
       "\n",
       "        \n",
       "</style>\n",
       "\n",
       "</head>\n",
       "\n",
       "<body>\n",
       "<div id = \"mynetwork\"></div>\n",
       "\n",
       "\n",
       "<script type=\"text/javascript\">\n",
       "\n",
       "    // initialize global variables.\n",
       "    var edges;\n",
       "    var nodes;\n",
       "    var network; \n",
       "    var container;\n",
       "    var options, data;\n",
       "\n",
       "    \n",
       "    // This method is responsible for drawing the graph, returns the drawn network\n",
       "    function drawGraph() {\n",
       "        var container = document.getElementById('mynetwork');\n",
       "        \n",
       "        \n",
       "\n",
       "        // parsing and collecting nodes and edges from the python\n",
       "        nodes = new vis.DataSet([{\"font\": {\"color\": \"white\"}, \"id\": \"root\", \"label\": \"root\", \"shape\": \"dot\", \"size\": 10}, {\"color\": \"#3449eb\", \"font\": {\"color\": \"white\"}, \"id\": \"Government Digital Service\", \"label\": \"Government Digital Service\", \"shape\": \"dot\", \"size\": 100, \"title\": \"\\u003cb\\u003eGovernment Digital Service\\u003c/b\\u003e \\u2013 50\\u003cul\\u003e\\u003cli\\u003eSenior Product Manager - GOV.UK\\u003c/li\\u003e\\u003cli\\u003eInterim Chief Architect, Digital Identity\\u003c/li\\u003e\\u003cli\\u003eHead of Operational Data \\u0026 Tools\\u003c/li\\u003e\\u003cli\\u003eDDaT Expert Resourcing Team Lead\\u003c/li\\u003e\\u003cli\\u003eCommissioning Manager\\u003c/li\\u003e\\u003cli\\u003eContent Lead\\u003c/li\\u003e\\u003cli\\u003eChief Operating Officer\\u003c/li\\u003e\\u003cli\\u003eSenior Channels \\u0026 Community Manager\\u003c/li\\u003e\\u003cli\\u003eSenior Product Manager\\u003c/li\\u003e\\u003cli\\u003eHead of HR projects and Estates \\u003c/li\\u003e\\u003cli\\u003eHead of Product\\u003c/li\\u003e\\u003cli\\u003eSenior Product Manager - Digital Identity\\u003c/li\\u003e\\u003cli\\u003eHead of User Research for Government and GDS\\u003c/li\\u003e\\u003cli\\u003eData Scientist\\u003c/li\\u003e\\u003cli\\u003eContent Designer\\u003c/li\\u003e\\u003cli\\u003eLead Data Scientist\\u003c/li\\u003e\\u003cli\\u003eContent Product Lead\\u003c/li\\u003e\\u003cli\\u003eSenior Developer\\u003c/li\\u003e\\u003cli\\u003eLead User Researcher\\u003c/li\\u003e\\u003cli\\u003eLearning Strategy Lead\\u003c/li\\u003e\\u003cli\\u003eHead of National \\u003c/li\\u003e\\u003cli\\u003eHead of Privacy\\u003c/li\\u003e\\u003cli\\u003eLead Delivery Manager, Digital Identity\\u003c/li\\u003e\\u003cli\\u003eDeputy Director - Digital\\u003c/li\\u003e\\u003cli\\u003eDelivery Manager\\u003c/li\\u003e\\u003cli\\u003eHead of Service Design and Standards\\u003c/li\\u003e\\u003cli\\u003eUser Experience Researcher\\u003c/li\\u003e\\u003cli\\u003eProduct Manager\\u003c/li\\u003e\\u003cli\\u003eSenior Performance Analyst\\u003c/li\\u003e\\u003cli\\u003eHead of Frontend Development, Lead Frontend Developer\\u003c/li\\u003e\\u003cli\\u003eLead user researcher\\u003c/li\\u003e\\u003cli\\u003eSenior Delivery Manager\\u003c/li\\u003e\\u003cli\\u003eUser Researcher\\u003c/li\\u003e\\u003cli\\u003eTechnical Architect\\u003c/li\\u003e\\u003cli\\u003eConsulting Technical Architect - Cabinet Office (Civil Services)\\u003c/li\\u003e\\u003cli\\u003eSenior Content Designer\\u003c/li\\u003e\\u003cli\\u003eSenior User Researcher\\u003c/li\\u003e\\u003cli\\u003eService Owner\\u003c/li\\u003e\\u003cli\\u003eSenior Strategy, Policy and Engagement lead in Digital Identity\\u003c/li\\u003e\\u003cli\\u003eSenior Content Designer - GOV.UK Accessibility\\u003c/li\\u003e\\u003cli\\u003eHead Of Commissioning\\u003c/li\\u003e\\u003cli\\u003eAssisted Digital \\u0026 Digital Take Up Lead\\u003c/li\\u003e\\u003cli\\u003eSenior content designer. Leading content for GOV.UK Pay\\u003c/li\\u003e\\u003c/ul\\u003e\"}, {\"color\": \"#3449eb\", \"font\": {\"color\": \"white\"}, \"id\": \"Cabinet Office\", \"label\": \"Cabinet Office\", \"shape\": \"dot\", \"size\": 48, \"title\": \"\\u003cb\\u003eCabinet Office\\u003c/b\\u003e \\u2013 24\\u003cul\\u003e\\u003cli\\u003eHead of international engagement strategy, COP26 Unit\\u003c/li\\u003e\\u003cli\\u003eSenior Agile Delivery Manager\\u003c/li\\u003e\\u003cli\\u003eDigital Delivery Manager\\u003c/li\\u003e\\u003cli\\u003eCommunication and Engagement at UK International Government Service\\u003c/li\\u003e\\u003cli\\u003eHead of ResilienceDirect \\u003c/li\\u003e\\u003cli\\u003eBusiness Operations and Governance Lead at Government Digital Service\\u003c/li\\u003e\\u003cli\\u003eHead of Government on the Web\\u003c/li\\u003e\\u003cli\\u003eAssistant Finance Business Partner for Government Skills and Curriculum Unit\\u003c/li\\u003e\\u003cli\\u003eSenior Projects Coordinator People and Places Directorate\\u003c/li\\u003e\\u003cli\\u003eHead of Service Design\\u003c/li\\u003e\\u003cli\\u003eDeputy Director, Strategy \\u0026 Economics, Central Digital and Data Office\\u003c/li\\u003e\\u003cli\\u003eSenior Delivery Manager, Technology Pillar\\u003c/li\\u003e\\u003cli\\u003e Programme Delivery Manager (Securing Government Services - CDDO)\\u003c/li\\u003e\\u003cli\\u003eDeputy Director Technology and Infrastructure\\u003c/li\\u003e\\u003cli\\u003eAgile Delivery Manager / Scrum Master\\u003c/li\\u003e\\u003cli\\u003eHead of Portfolio Delivery Cabinet Office CDIO Directorate\\u003c/li\\u003e\\u003cli\\u003eDigital Services Manager\\u003c/li\\u003e\\u003cli\\u003eHead of Service Assessment at Cabinet Office Central Digital and Data Office\\u003c/li\\u003e\\u003cli\\u003eHead of Consulting Architects at Government Digital Service\\u003c/li\\u003e\\u003cli\\u003eUser Research Lead (Consultant)\\u003c/li\\u003e\\u003cli\\u003eSenior Campaigns and Stakeholder Manager, Midlands \\u0026 East of England\\u003c/li\\u003e\\u003cli\\u003eSenior Agile Delivery Manager / Scrum Master\\u003c/li\\u003e\\u003cli\\u003eKnowledge \\u0026 Information Management Communications Manager\\u003c/li\\u003e\\u003cli\\u003ePortfolio Manager\\u003c/li\\u003e\\u003c/ul\\u003e\"}, {\"color\": \"#3449eb\", \"font\": {\"color\": \"white\"}, \"id\": \"Ministry of Justice UK\", \"label\": \"Ministry of Justice UK\", \"shape\": \"dot\", \"size\": 22, \"title\": \"\\u003cb\\u003eMinistry of Justice UK\\u003c/b\\u003e \\u2013 11\\u003cul\\u003e\\u003cli\\u003eAdministrator\\u003c/li\\u003e\\u003cli\\u003eProduct Lead (Service Owner): Prisoner and Family Services\\u003c/li\\u003e\\u003cli\\u003eInterim user researcher\\u003c/li\\u003e\\u003cli\\u003eBusiness Change and Engagement Lead\\u003c/li\\u003e\\u003cli\\u003eResidential Women\\u0027s Centre Wales (to April 2022)\\u003c/li\\u003e\\u003cli\\u003eContent design consultant \\u003c/li\\u003e\\u003cli\\u003eSenior Product Manager\\u003c/li\\u003e\\u003cli\\u003eSenior Delivery Manager\\u003c/li\\u003e\\u003cli\\u003eSenior content designer\\u003c/li\\u003e\\u003cli\\u003eTechnical Architect\\u003c/li\\u003e\\u003cli\\u003eDeputy Director - Digital Probation\\u003c/li\\u003e\\u003c/ul\\u003e\"}, {\"color\": \"#3449eb\", \"font\": {\"color\": \"white\"}, \"id\": \"HM Revenue \\u0026 Customs\", \"label\": \"HM Revenue \\u0026 Customs\", \"shape\": \"dot\", \"size\": 16, \"title\": \"\\u003cb\\u003eHM Revenue \\u0026 Customs\\u003c/b\\u003e \\u2013 8\\u003cul\\u003e\\u003cli\\u003eGovernance \\u0026 Assurance Manager - CSG Change Portfolio\\u003c/li\\u003e\\u003cli\\u003eCommunications \\u0026 Engagement\\u003c/li\\u003e\\u003cli\\u003eHead of Content Design\\u003c/li\\u003e\\u003cli\\u003eContent Designer\\u003c/li\\u003e\\u003cli\\u003eStatistician\\u003c/li\\u003e\\u003cli\\u003eStrategy Lead\\u003c/li\\u003e\\u003cli\\u003eSenior Agile Delivery Lead\\u003c/li\\u003e\\u003cli\\u003eHead of Security Insight \\u0026 Analysis Team - Cyber Security \\u0026 Information Risks\\u003c/li\\u003e\\u003c/ul\\u003e\"}, {\"color\": \"#3449eb\", \"font\": {\"color\": \"white\"}, \"id\": \"Department for Work and Pensions (DWP)\", \"label\": \"Department for Work and Pensions (DWP)\", \"shape\": \"dot\", \"size\": 14, \"title\": \"\\u003cb\\u003eDepartment for Work and Pensions (DWP)\\u003c/b\\u003e \\u2013 7\\u003cul\\u003e\\u003cli\\u003ePrivate Pensions policy - pensions guidance and long-term strategy\\u003c/li\\u003e\\u003cli\\u003eDigital Performance Analyst\\u003c/li\\u003e\\u003cli\\u003eDirector Of Operations\\u003c/li\\u003e\\u003cli\\u003eDevOps Engineer\\u003c/li\\u003e\\u003cli\\u003eLead Content Designer(Universal Credit)\\u003c/li\\u003e\\u003cli\\u003eUser Researcher\\u003c/li\\u003e\\u003cli\\u003eParticipation and Contributions Analysis Team Leader\\u003c/li\\u003e\\u003c/ul\\u003e\"}, {\"color\": \"#3449eb\", \"font\": {\"color\": \"white\"}, \"id\": \"Public Digital\", \"label\": \"Public Digital\", \"shape\": \"dot\", \"size\": 12, \"title\": \"\\u003cb\\u003ePublic Digital\\u003c/b\\u003e \\u2013 6\\u003cul\\u003e\\u003cli\\u003eDirector\\u003c/li\\u003e\\u003cli\\u003ePublic Digital Network Director\\u003c/li\\u003e\\u003cli\\u003ePartner and CTO\\u003c/li\\u003e\\u003cli\\u003ePartner\\u003c/li\\u003e\\u003c/ul\\u003e\"}, {\"color\": \"#3449eb\", \"font\": {\"color\": \"white\"}, \"id\": \"Department for Digital, Culture, Media and Sport (DCMS)\", \"label\": \"Department for Digital, Culture, Media and Sport (DCMS)\", \"shape\": \"dot\", \"size\": 12, \"title\": \"\\u003cb\\u003eDepartment for Digital, Culture, Media and Sport (DCMS)\\u003c/b\\u003e \\u2013 6\\u003cul\\u003e\\u003cli\\u003eHead of Health, Workforce and Diversity - Sport Team\\u003c/li\\u003e\\u003cli\\u003eConsulting Specialist - DCMS DDaT\\u003c/li\\u003e\\u003cli\\u003eHead of Libraries Strategy and Delivery\\u003c/li\\u003e\\u003cli\\u003eIndependent Consultant\\u003c/li\\u003e\\u003cli\\u003eHead of Secure Connected Places\\u003c/li\\u003e\\u003cli\\u003eSenior policy lead (online safety technology and innovation)\\u003c/li\\u003e\\u003c/ul\\u003e\"}, {\"color\": \"#3449eb\", \"font\": {\"color\": \"white\"}, \"id\": \"Department for International Trade (DIT)\", \"label\": \"Department for International Trade (DIT)\", \"shape\": \"dot\", \"size\": 10, \"title\": \"\\u003cb\\u003eDepartment for International Trade (DIT)\\u003c/b\\u003e \\u2013 5\\u003cul\\u003e\\u003cli\\u003eHead of Content Design\\u003c/li\\u003e\\u003cli\\u003eSenior Delivery Manager\\u003c/li\\u003e\\u003cli\\u003eHead of Product\\u003c/li\\u003e\\u003cli\\u003eSenior Content Designer\\u003c/li\\u003e\\u003cli\\u003eChief Engagement \\u0026 Design Officer\\u003c/li\\u003e\\u003c/ul\\u003e\"}, {\"color\": \"#3449eb\", \"font\": {\"color\": \"white\"}, \"id\": \"dxw\", \"label\": \"dxw\", \"shape\": \"dot\", \"size\": 10, \"title\": \"\\u003cb\\u003edxw\\u003c/b\\u003e \\u2013 5\\u003cul\\u003e\\u003cli\\u003eHead of Strategy\\u003c/li\\u003e\\u003cli\\u003eDelivery Director\\u003c/li\\u003e\\u003cli\\u003eManaging Director\\u003c/li\\u003e\\u003cli\\u003eDirector Marketing and Communications\\u003c/li\\u003e\\u003cli\\u003eClient Services Director\\u003c/li\\u003e\\u003c/ul\\u003e\"}, {\"color\": \"#3449eb\", \"font\": {\"color\": \"white\"}, \"id\": \"Department for Education\", \"label\": \"Department for Education\", \"shape\": \"dot\", \"size\": 10, \"title\": \"\\u003cb\\u003eDepartment for Education\\u003c/b\\u003e \\u2013 5\\u003cul\\u003e\\u003cli\\u003eInteraction Designer\\u003c/li\\u003e\\u003cli\\u003eSenior User Researcher (Schools Commercial)\\u003c/li\\u003e\\u003cli\\u003eChief Digital \\u0026 Technology Officer\\u003c/li\\u003e\\u003cli\\u003eHead of Operational Services\\u003c/li\\u003e\\u003cli\\u003eLead Product Manager\\u003c/li\\u003e\\u003c/ul\\u003e\"}]);\n",
       "        edges = new vis.DataSet([{\"color\": \"grey\", \"from\": \"root\", \"to\": \"Government Digital Service\", \"weight\": 1}, {\"color\": \"grey\", \"from\": \"root\", \"to\": \"Cabinet Office\", \"weight\": 1}, {\"color\": \"grey\", \"from\": \"root\", \"to\": \"Ministry of Justice UK\", \"weight\": 1}, {\"color\": \"grey\", \"from\": \"root\", \"to\": \"HM Revenue \\u0026 Customs\", \"weight\": 1}, {\"color\": \"grey\", \"from\": \"root\", \"to\": \"Department for Work and Pensions (DWP)\", \"weight\": 1}, {\"color\": \"grey\", \"from\": \"root\", \"to\": \"Public Digital\", \"weight\": 1}, {\"color\": \"grey\", \"from\": \"root\", \"to\": \"Department for Digital, Culture, Media and Sport (DCMS)\", \"weight\": 1}, {\"color\": \"grey\", \"from\": \"root\", \"to\": \"Department for International Trade (DIT)\", \"weight\": 1}, {\"color\": \"grey\", \"from\": \"root\", \"to\": \"dxw\", \"weight\": 1}, {\"color\": \"grey\", \"from\": \"root\", \"to\": \"Department for Education\", \"weight\": 1}]);\n",
       "\n",
       "        // adding nodes and edges to the graph\n",
       "        data = {nodes: nodes, edges: edges};\n",
       "\n",
       "        var options = {\n",
       "    \"configure\": {\n",
       "        \"enabled\": false\n",
       "    },\n",
       "    \"edges\": {\n",
       "        \"color\": {\n",
       "            \"inherit\": true\n",
       "        },\n",
       "        \"smooth\": {\n",
       "            \"enabled\": false,\n",
       "            \"type\": \"continuous\"\n",
       "        }\n",
       "    },\n",
       "    \"interaction\": {\n",
       "        \"dragNodes\": true,\n",
       "        \"hideEdgesOnDrag\": false,\n",
       "        \"hideNodesOnDrag\": false\n",
       "    },\n",
       "    \"physics\": {\n",
       "        \"enabled\": true,\n",
       "        \"hierarchicalRepulsion\": {\n",
       "            \"centralGravity\": 0.0,\n",
       "            \"damping\": 0.09,\n",
       "            \"nodeDistance\": 120,\n",
       "            \"springConstant\": 0.01,\n",
       "            \"springLength\": 100\n",
       "        },\n",
       "        \"solver\": \"hierarchicalRepulsion\",\n",
       "        \"stabilization\": {\n",
       "            \"enabled\": true,\n",
       "            \"fit\": true,\n",
       "            \"iterations\": 1000,\n",
       "            \"onlyDynamicEdges\": false,\n",
       "            \"updateInterval\": 50\n",
       "        }\n",
       "    }\n",
       "};\n",
       "        \n",
       "        \n",
       "\n",
       "        \n",
       "\n",
       "        network = new vis.Network(container, data, options);\n",
       "\t \n",
       "        \n",
       "\n",
       "\n",
       "        \n",
       "\n",
       "        return network;\n",
       "\n",
       "    }\n",
       "\n",
       "    drawGraph();\n",
       "\n",
       "</script>\n",
       "</body>\n",
       "</html>"
      ],
      "text/plain": [
       "<IPython.core.display.HTML object>"
      ]
     },
     "metadata": {},
     "output_type": "display_data"
    }
   ],
   "source": [
    "# initialize graph\n",
    "g = nx.Graph()\n",
    "g.add_node('root') # intialize yourself as central\n",
    "\n",
    "# use iterrows tp iterate through the data frame\n",
    "for _, row in df_company_reduced.iterrows():\n",
    "\n",
    "  # store company name and count\n",
    "  company = row['company']\n",
    "  count = row['count']\n",
    "\n",
    "  title = f\"<b>{company}</b> – {count}\"\n",
    "  positions = set([x for x in df[company == df['company']]['position']])\n",
    "  positions = ''.join('<li>{}</li>'.format(x) for x in positions)\n",
    "\n",
    "  position_list = f\"<ul>{positions}</ul>\"\n",
    "  hover_info = title + position_list\n",
    "\n",
    "  g.add_node(company, size=count*2, title=hover_info, color='#3449eb')\n",
    "  g.add_edge('root', company, color='grey')\n",
    "\n",
    "# generate the graph\n",
    "nt = net.Network(height='700px', width='700px', bgcolor=\"black\", font_color='white')\n",
    "nt.from_nx(g)\n",
    "nt.hrepulsion()\n",
    "# more customization https://tinyurl.com/yf5lvvdm\n",
    "nt.show('company_graph.html')\n",
    "display(HTML('company_graph.html'))"
   ]
  },
  {
   "cell_type": "code",
   "execution_count": 15,
   "metadata": {},
   "outputs": [
    {
     "data": {
      "text/html": [
       "<html>\n",
       "<head>\n",
       "<link rel=\"stylesheet\" href=\"https://cdnjs.cloudflare.com/ajax/libs/vis/4.16.1/vis.css\" type=\"text/css\" />\n",
       "<script type=\"text/javascript\" src=\"https://cdnjs.cloudflare.com/ajax/libs/vis/4.16.1/vis-network.min.js\"> </script>\n",
       "<center>\n",
       "<h1></h1>\n",
       "</center>\n",
       "\n",
       "<!-- <link rel=\"stylesheet\" href=\"../node_modules/vis/dist/vis.min.css\" type=\"text/css\" />\n",
       "<script type=\"text/javascript\" src=\"../node_modules/vis/dist/vis.js\"> </script>-->\n",
       "\n",
       "<style type=\"text/css\">\n",
       "\n",
       "        #mynetwork {\n",
       "            width: 700px;\n",
       "            height: 700px;\n",
       "            background-color: black;\n",
       "            border: 1px solid lightgray;\n",
       "            position: relative;\n",
       "            float: left;\n",
       "        }\n",
       "\n",
       "        \n",
       "\n",
       "        \n",
       "\n",
       "        \n",
       "</style>\n",
       "\n",
       "</head>\n",
       "\n",
       "<body>\n",
       "<div id = \"mynetwork\"></div>\n",
       "\n",
       "\n",
       "<script type=\"text/javascript\">\n",
       "\n",
       "    // initialize global variables.\n",
       "    var edges;\n",
       "    var nodes;\n",
       "    var network; \n",
       "    var container;\n",
       "    var options, data;\n",
       "\n",
       "    \n",
       "    // This method is responsible for drawing the graph, returns the drawn network\n",
       "    function drawGraph() {\n",
       "        var container = document.getElementById('mynetwork');\n",
       "        \n",
       "        \n",
       "\n",
       "        // parsing and collecting nodes and edges from the python\n",
       "        nodes = new vis.DataSet([{\"font\": {\"color\": \"white\"}, \"id\": \"root\", \"label\": \"root\", \"shape\": \"dot\", \"size\": 10}, {\"color\": \"#3449eb\", \"font\": {\"color\": \"white\"}, \"id\": \"Director\", \"label\": \"Director\", \"shape\": \"dot\", \"size\": 12, \"title\": \"12\"}, {\"color\": \"#3449eb\", \"font\": {\"color\": \"white\"}, \"id\": \"Senior Performance Analyst\", \"label\": \"Senior Performance Analyst\", \"shape\": \"dot\", \"size\": 8, \"title\": \"8\"}, {\"color\": \"#3449eb\", \"font\": {\"color\": \"white\"}, \"id\": \"Senior Product Manager\", \"label\": \"Senior Product Manager\", \"shape\": \"dot\", \"size\": 8, \"title\": \"8\"}, {\"color\": \"#3449eb\", \"font\": {\"color\": \"white\"}, \"id\": \"Founder\", \"label\": \"Founder\", \"shape\": \"dot\", \"size\": 7, \"title\": \"7\"}, {\"color\": \"#3449eb\", \"font\": {\"color\": \"white\"}, \"id\": \"Content Designer\", \"label\": \"Content Designer\", \"shape\": \"dot\", \"size\": 7, \"title\": \"7\"}]);\n",
       "        edges = new vis.DataSet([{\"color\": \"grey\", \"from\": \"root\", \"to\": \"Director\", \"weight\": 1}, {\"color\": \"grey\", \"from\": \"root\", \"to\": \"Senior Performance Analyst\", \"weight\": 1}, {\"color\": \"grey\", \"from\": \"root\", \"to\": \"Senior Product Manager\", \"weight\": 1}, {\"color\": \"grey\", \"from\": \"root\", \"to\": \"Founder\", \"weight\": 1}, {\"color\": \"grey\", \"from\": \"root\", \"to\": \"Content Designer\", \"weight\": 1}]);\n",
       "\n",
       "        // adding nodes and edges to the graph\n",
       "        data = {nodes: nodes, edges: edges};\n",
       "\n",
       "        var options = {\n",
       "    \"configure\": {\n",
       "        \"enabled\": false\n",
       "    },\n",
       "    \"edges\": {\n",
       "        \"color\": {\n",
       "            \"inherit\": true\n",
       "        },\n",
       "        \"smooth\": {\n",
       "            \"enabled\": false,\n",
       "            \"type\": \"continuous\"\n",
       "        }\n",
       "    },\n",
       "    \"interaction\": {\n",
       "        \"dragNodes\": true,\n",
       "        \"hideEdgesOnDrag\": false,\n",
       "        \"hideNodesOnDrag\": false\n",
       "    },\n",
       "    \"physics\": {\n",
       "        \"enabled\": true,\n",
       "        \"hierarchicalRepulsion\": {\n",
       "            \"centralGravity\": 0.0,\n",
       "            \"damping\": 0.09,\n",
       "            \"nodeDistance\": 120,\n",
       "            \"springConstant\": 0.01,\n",
       "            \"springLength\": 100\n",
       "        },\n",
       "        \"solver\": \"hierarchicalRepulsion\",\n",
       "        \"stabilization\": {\n",
       "            \"enabled\": true,\n",
       "            \"fit\": true,\n",
       "            \"iterations\": 1000,\n",
       "            \"onlyDynamicEdges\": false,\n",
       "            \"updateInterval\": 50\n",
       "        }\n",
       "    }\n",
       "};\n",
       "        \n",
       "        \n",
       "\n",
       "        \n",
       "\n",
       "        network = new vis.Network(container, data, options);\n",
       "\t \n",
       "        \n",
       "\n",
       "\n",
       "        \n",
       "\n",
       "        return network;\n",
       "\n",
       "    }\n",
       "\n",
       "    drawGraph();\n",
       "\n",
       "</script>\n",
       "</body>\n",
       "</html>"
      ],
      "text/plain": [
       "<IPython.core.display.HTML object>"
      ]
     },
     "metadata": {},
     "output_type": "display_data"
    }
   ],
   "source": [
    "# initialize graph\n",
    "g = nx.Graph()\n",
    "g.add_node('root') # intialize yourself as central\n",
    "\n",
    "# use iterrows tp iterate through the data frame\n",
    "for _, row in df_position_reduced.iterrows():\n",
    "\n",
    "  count = f\"{row['count']}\"\n",
    "  position= row['position']\n",
    "  \n",
    "  g.add_node(position, size=count, color='#3449eb', title=count)\n",
    "  g.add_edge('root', position, color='grey')\n",
    "\n",
    "# generate the graph\n",
    "nt = net.Network(height='700px', width='700px', bgcolor=\"black\", font_color='white')\n",
    "nt.from_nx(g)\n",
    "nt.hrepulsion()\n",
    "# more customization https://tinyurl.com/yf5lvvdm\n",
    "nt.show('position_graph.html')\n",
    "display(HTML('position_graph.html'))"
   ]
  },
  {
   "cell_type": "code",
   "execution_count": null,
   "metadata": {},
   "outputs": [],
   "source": []
  }
 ],
 "metadata": {
  "kernelspec": {
   "display_name": "Python 3 (ipykernel)",
   "language": "python",
   "name": "python3"
  },
  "language_info": {
   "codemirror_mode": {
    "name": "ipython",
    "version": 3
   },
   "file_extension": ".py",
   "mimetype": "text/x-python",
   "name": "python",
   "nbconvert_exporter": "python",
   "pygments_lexer": "ipython3",
   "version": "3.8.5"
  }
 },
 "nbformat": 4,
 "nbformat_minor": 4
}
